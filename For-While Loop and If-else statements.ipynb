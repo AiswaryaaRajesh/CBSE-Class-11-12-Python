{
 "cells": [
  {
   "cell_type": "code",
   "execution_count": null,
   "metadata": {},
   "outputs": [],
   "source": [
    "#celcius to farenheit\n",
    "cel=int(input(\"Enter temperature in celcius\"))\n",
    "far=(cel*(9/5))+32\n",
    "print(far)"
   ]
  },
  {
   "cell_type": "code",
   "execution_count": null,
   "metadata": {},
   "outputs": [],
   "source": [
    "#selling prize of an item\n",
    "cost=int(input(\"ENter cost of product\"))\n",
    "profit=int(input(\"ENter the profit\"))\n",
    "sell=cost+profit\n",
    "print(\"The selling prize is\",sell)"
   ]
  },
  {
   "cell_type": "code",
   "execution_count": null,
   "metadata": {},
   "outputs": [],
   "source": [
    "#radius of a circcle\n",
    "r=int(input(\"ENter the radius of a circle\"))\n",
    "a=(3.14)*(r**2)\n",
    "print(\"The area of the circle is\",a)"
   ]
  },
  {
   "cell_type": "code",
   "execution_count": null,
   "metadata": {},
   "outputs": [],
   "source": [
    "#Avg marks in 5 subjects\n",
    "sum=0\n",
    "for i in range (1,6):\n",
    "    m=int(input(\"Enter your marks\"))\n",
    "    sum=sum+m\n",
    "print (\"Average marks is\",sum/5)"
   ]
  },
  {
   "cell_type": "code",
   "execution_count": null,
   "metadata": {},
   "outputs": [],
   "source": [
    "#Area of a triangle\n",
    "b=int(input(\"Enter the base of your triangle\"))\n",
    "h=int(input(\"Enter the height of your triangle\"))\n",
    "a=(1/2)*b*h\n",
    "print(\"Area of the triangle is\", a)"
   ]
  },
  {
   "cell_type": "code",
   "execution_count": null,
   "metadata": {},
   "outputs": [],
   "source": [
    "#table of number\n",
    "table=int(input(\"Enter a number\"))\n",
    "for i in range (1,11):\n",
    "    print(table,\"X\",i,\"=\",table*i)"
   ]
  },
  {
   "cell_type": "code",
   "execution_count": null,
   "metadata": {},
   "outputs": [],
   "source": [
    "#area and perimeter of rectangle\n",
    "l=int(input(\"Enter length of rectangle\"))\n",
    "b=int(input(\"Enter breadth of rectangle\"))\n",
    "a=l*b\n",
    "p=2*(l+b)\n",
    "print(\"Area is\",a)\n",
    "print(\"Perimeter is\",p)\n"
   ]
  },
  {
   "cell_type": "code",
   "execution_count": null,
   "metadata": {},
   "outputs": [],
   "source": [
    "#Pass or Fail\n",
    "sum=0\n",
    "for i in range (1,5):\n",
    "    m=int(input(\"Enter your marks out of 80  \"))\n",
    "    sum=sum+m\n",
    "grade=sum/4\n",
    "if grade>30:\n",
    "    print(\"PASS\")\n",
    "else:\n",
    "    print(\"FAIL\")"
   ]
  },
  {
   "cell_type": "code",
   "execution_count": null,
   "metadata": {},
   "outputs": [],
   "source": [
    "#Largest or Maximum number\n",
    "max=int(input(\"Enter a number\"))\n",
    "for i in range(1,3):\n",
    "    num=int(input(\"Enter a number\"))\n",
    "    if max<num:\n",
    "        max=num\n",
    "print(\"Largest number is\",max)    "
   ]
  },
  {
   "cell_type": "code",
   "execution_count": null,
   "metadata": {},
   "outputs": [],
   "source": [
    "#Sum of even numbers till n\n",
    "n=int(input(\"Enter a number\"))\n",
    "sum=0\n",
    "for i in range (1,n+1):\n",
    "    if i%2==0:\n",
    "        sum=sum+i\n",
    "print(sum)"
   ]
  },
  {
   "cell_type": "code",
   "execution_count": null,
   "metadata": {},
   "outputs": [],
   "source": [
    "#Menu Driven\n",
    "while True:\n",
    "    print(\"1 => Area of circle \")\n",
    "    print(\"2 => Area of rectangle \")\n",
    "    print(\"3 => circumference of circle \")\n",
    "    print(\"4 => Area of square \")\n",
    "    print(\"5 => Exit\")\n",
    "    choice=int(input(\"Enter your choice \"))\n",
    "    if choice==1:\n",
    "        r=int(input(\"Enter radius of circle \"))\n",
    "        a=(3.14)*(r**2)\n",
    "        print(\"Area of the circle is \",a)        \n",
    "    elif choice==2:\n",
    "        l=int(input(\"Enter length of rectangle \"))\n",
    "        b=int(input(\"Enter breadth of rectangle \"))\n",
    "        a=l*b\n",
    "        print(\"Area of rectangle is \",a)       \n",
    "    elif choice==3:\n",
    "        r=int(input(\"Enter radius of circle \"))\n",
    "        c=2*(3.14)*r\n",
    "        print(\"Circumference of circle is \",c)        \n",
    "    elif choice==4:\n",
    "        s=int(input(\"Enter side of square \"))\n",
    "        a=s*s\n",
    "        print(\"Area of square is \",a)        \n",
    "    elif choice==5:\n",
    "        break\n",
    "    else:\n",
    "        print(\"invalid number entered\")   \n"
   ]
  },
  {
   "cell_type": "code",
   "execution_count": null,
   "metadata": {},
   "outputs": [],
   "source": [
    "#Vowel or Consonent\n",
    "le=input(\"Enter a letter \")\n",
    "if le.isalpha()==True:\n",
    "    if le==\"a\" or le==\"e\" or le==\"i\" or le==\"o\" or le==\"u\" or le==\"A\" or le==\"E\" or le==\"I\" or le==\"O\" or le==\"U\":\n",
    "        print(\"It is a vowel\")\n",
    "    else:\n",
    "        print(\"It is a consonent\")\n",
    "else:\n",
    "    print(\"Invalid character\")"
   ]
  },
  {
   "cell_type": "code",
   "execution_count": null,
   "metadata": {},
   "outputs": [],
   "source": [
    "#Fibonacci Series\n",
    "a,b=0,1\n",
    "n=int(input(\"Enter limit for Fibonacci series\"))\n",
    "for i in range(1,n+1):\n",
    "    print(a)\n",
    "    a,b=b,a+b"
   ]
  },
  {
   "cell_type": "code",
   "execution_count": 1,
   "metadata": {},
   "outputs": [
    {
     "name": "stdout",
     "output_type": "stream",
     "text": [
      "Enter a number5\n",
      "1 , 5 , \n",
      "It is a prime number\n"
     ]
    }
   ],
   "source": [
    "#Prime number or Composite number\n",
    "n=int(input(\"Enter a number\"))\n",
    "sum=0\n",
    "for i in range(1,n+1):\n",
    "    if n%i==0:\n",
    "        print(i,\",\", end=\" \")\n",
    "        sum=sum+i\n",
    "print()\n",
    "if sum==n+1:\n",
    "    print(\"It is a prime number\")\n",
    "else:\n",
    "    print(\"It is a composite number\")"
   ]
  },
  {
   "cell_type": "code",
   "execution_count": null,
   "metadata": {},
   "outputs": [],
   "source": [
    "#Armstrong Number\n",
    "n=int(input(\"Enter a number\"))\n",
    "sum=0\n",
    "cp=n\n",
    "while n>0:\n",
    "    r=n%10\n",
    "    sum=sum+r**3\n",
    "    n=n//10\n",
    "if sum==cp:\n",
    "    print(\"it is an armstrong number\")\n",
    "else:\n",
    "    print(\"it is not an Armstrong number\")"
   ]
  },
  {
   "cell_type": "code",
   "execution_count": null,
   "metadata": {},
   "outputs": [],
   "source": [
    "#Sum of digits\n",
    "n=int(input(\"Enter a number\"))\n",
    "sum=0\n",
    "while n>0:\n",
    "    r=n%10\n",
    "    sum=sum+r\n",
    "    n=n//10\n",
    "print(sum)"
   ]
  },
  {
   "cell_type": "code",
   "execution_count": null,
   "metadata": {},
   "outputs": [],
   "source": [
    "#palindrome\n",
    "n= int(input(\"Enter aa number \"))\n",
    "rev=0\n",
    "cp=n\n",
    "while n>0:\n",
    "    r=n%10\n",
    "    rev=rev*10+r\n",
    "    n=n//10\n",
    "if rev==cp:\n",
    "    print(\"it is a pallindrome\")\n",
    "else:\n",
    "    print(\"it is not a pallindrome\")"
   ]
  },
  {
   "cell_type": "code",
   "execution_count": null,
   "metadata": {},
   "outputs": [],
   "source": [
    "#perfect number\n",
    "n=int(input(\"Enter a number \"))\n",
    "sum=0\n",
    "for i in range (1,n):\n",
    "    if n%i==0:\n",
    "        sum=sum+i\n",
    "if sum==n:\n",
    "    print(\"It is a perfect number\")\n",
    "else:\n",
    "    print(\"it is not a perfect number\")\n"
   ]
  },
  {
   "cell_type": "code",
   "execution_count": null,
   "metadata": {},
   "outputs": [],
   "source": [
    "#sum of geometric series (geometric progression)\n",
    "a=int(input(\"Enter the first number of GP \"))\n",
    "r=float(input(\"Enter the common ratio \"))\n",
    "n=int(input(\"Enter the stopping value \"))\n",
    "print(\"Sum of GP with first term\",a)\n",
    "sum=0\n",
    "for i in range (1,n):\n",
    "    term=a*(r**i)\n",
    "    sum=sum+term\n",
    "print(\"Sum is\",sum)"
   ]
  },
  {
   "cell_type": "code",
   "execution_count": null,
   "metadata": {},
   "outputs": [],
   "source": [
    "#following pattern\n",
    "#   1 2 3\n",
    "#   1 2\n",
    "#   1\n",
    "for i in range(4,1,-1):\n",
    "    for j in range (1,i):\n",
    "        print(j, end=\" \")\n",
    "    print()"
   ]
  },
  {
   "cell_type": "code",
   "execution_count": null,
   "metadata": {},
   "outputs": [],
   "source": []
  },
  {
   "cell_type": "code",
   "execution_count": null,
   "metadata": {},
   "outputs": [],
   "source": [
    "#sum of Even numbers b/w given numbers\n",
    "num1=int(input(\"Enter the starting value\"))\n",
    "num2=int(input(\"Enter the stopping value\"))\n",
    "sum=0\n",
    "for i in range (num1,num2+1):\n",
    "    if i%2==0:\n",
    "        sum=sum+i\n",
    "print(sum)\n",
    "    "
   ]
  },
  {
   "cell_type": "code",
   "execution_count": null,
   "metadata": {},
   "outputs": [],
   "source": [
    "#Sum of.....(1)+(1+2)+(1+2+3).....(1+2+3+....n)\n",
    "stop=int(input(\"Enter the stopping value \"))\n",
    "sum=0\n",
    "for i in range (1,stop+1):\n",
    "    for j in range(i,i+1):\n",
    "        sum=sum+i\n",
    "print(sum)"
   ]
  },
  {
   "cell_type": "code",
   "execution_count": null,
   "metadata": {},
   "outputs": [],
   "source": [
    "#LCM and HCF\n",
    "a=int(input(\"Enter first number \"))\n",
    "b=int(input(\"Enter second number \"))\n",
    "if a>b:\n",
    "    smaller=b\n",
    "    bigger=a\n",
    "else:\n",
    "    smaller=a\n",
    "    bigger=b\n",
    "for i in range (smaller,0,-1):\n",
    "    if a%i==0 and b%i==0:\n",
    "        print(\"HCF is \",i)\n",
    "        break\n",
    "for j in range (bigger, (a*b)+1):\n",
    "    if j%a==0 and j%b==0:\n",
    "        print(\"LCM is \",j)\n",
    "        break"
   ]
  },
  {
   "cell_type": "code",
   "execution_count": null,
   "metadata": {},
   "outputs": [],
   "source": [
    "#count number of entered numbers are prime\n",
    "n=int(input(\"Number of values you want to enter \"))\n",
    "sum=0\n",
    "for i in range (1,n+1):\n",
    "    num=int(input(\"Enter a number \"))\n",
    "    if num%i==0:\n",
    "        sum=sum+1\n",
    "print(\"Number of prime numbers from entered values are\",sum)"
   ]
  },
  {
   "cell_type": "code",
   "execution_count": null,
   "metadata": {},
   "outputs": [],
   "source": [
    "#input n numbers and write sum of digits of each number\n",
    "num=int(input(\"Enter stopping value\"))\n",
    "for i in range(1,num+1):\n",
    "    sum=0\n",
    "    n=int(input(\"Enter a number\"))\n",
    "    while n>0:\n",
    "        r=n%10\n",
    "        sum=sum+r\n",
    "        n=n//10\n",
    "    print(sum)"
   ]
  },
  {
   "cell_type": "code",
   "execution_count": null,
   "metadata": {},
   "outputs": [],
   "source": []
  }
 ],
 "metadata": {
  "kernelspec": {
   "display_name": "Python 3",
   "language": "python",
   "name": "python3"
  },
  "language_info": {
   "codemirror_mode": {
    "name": "ipython",
    "version": 3
   },
   "file_extension": ".py",
   "mimetype": "text/x-python",
   "name": "python",
   "nbconvert_exporter": "python",
   "pygments_lexer": "ipython3",
   "version": "3.7.3"
  }
 },
 "nbformat": 4,
 "nbformat_minor": 2
}
