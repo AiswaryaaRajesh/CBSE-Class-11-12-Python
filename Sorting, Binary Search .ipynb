{
 "cells": [
  {
   "cell_type": "code",
   "execution_count": null,
   "metadata": {},
   "outputs": [],
   "source": [
    "#bubble sort\n",
    "def bubble(l): \n",
    "    print(\"Original list => \",l)\n",
    "    n=len(l)\n",
    "    for i in range(n-1): \n",
    "        for j in range(n-i-1): \n",
    "            if l[j]>l[j+1]: \n",
    "                l[j],l[j+1]=l[j+1],l[j] \n",
    "    print(\"List after sorting => \",l) \n",
    "\n",
    "n=int(input(\"Enter number of elements in list => \"))\n",
    "origl=[]\n",
    "for i in range (n):\n",
    "    x = int(input(\"Enter a number => \"))\n",
    "    origl.append(x)\n",
    "bubble(origl) \n"
   ]
  },
  {
   "cell_type": "code",
   "execution_count": null,
   "metadata": {},
   "outputs": [],
   "source": [
    "#insertion sort\n",
    "def insertion(l):\n",
    "    print(\"Original list =>\",l)\n",
    "    for i in range(1,len(l)):\n",
    "        temp=l[i]\n",
    "        j=i-1\n",
    "        while j>=0 and temp<l[j]:\n",
    "            l[j+1]=l[j]\n",
    "            j=j-1\n",
    "        l[j+1]=temp \n",
    "    print(\"List after sorting\",l) \n",
    "\n",
    "n=int(input(\"Enter number of elements in list => \"))\n",
    "origl=[]\n",
    "for i in range (n):\n",
    "    x= int(input(\"Enter a number => \"))\n",
    "    origl.append(x)\n",
    "insertion(origl)\n"
   ]
  },
  {
   "cell_type": "code",
   "execution_count": 1,
   "metadata": {},
   "outputs": [
    {
     "name": "stdout",
     "output_type": "stream",
     "text": [
      "**enter list in ascending order**\n",
      "Enter number of elements in list => 5\n",
      "Enter a number => 10\n",
      "Enter a number => 20\n",
      "Enter a number => 30\n",
      "Enter a number => 40\n",
      "Enter a number => 50\n",
      "List is => [10, 20, 30, 40, 50]\n",
      "Enter number to find in list => 20\n",
      "Position at which we find 20 is 2\n"
     ]
    }
   ],
   "source": [
    "#binary search\n",
    "def bsearch(l, beg, end, num): \n",
    "    if beg <= end:\n",
    "        mid = (beg + end)//2\n",
    "        if l[mid] == num: \n",
    "            return mid+1  \n",
    "        elif l[mid] < num: \n",
    "            return bsearch(l, mid+1, end, num)\n",
    "        else: \n",
    "            return bsearch(l, beg, mid-1, num)\n",
    "    else:\n",
    "        return None\n",
    "\n",
    "print(\"**enter list in ascending order**\")\n",
    "n=int(input(\"Enter number of elements in list => \"))\n",
    "l=[]\n",
    "for i in range (n):\n",
    "    x= int(input(\"Enter a number => \"))\n",
    "    l.append(x)\n",
    "print(\"List is =>\", l)\n",
    "numsearch=int(input(\"Enter number to find in list => \"))\n",
    "\n",
    "print(\"Position at which we find\", numsearch, \"is\", bsearch(l, 0, n, numsearch))"
   ]
  },
  {
   "cell_type": "code",
   "execution_count": null,
   "metadata": {},
   "outputs": [],
   "source": []
  }
 ],
 "metadata": {
  "kernelspec": {
   "display_name": "Python 3",
   "language": "python",
   "name": "python3"
  },
  "language_info": {
   "codemirror_mode": {
    "name": "ipython",
    "version": 3
   },
   "file_extension": ".py",
   "mimetype": "text/x-python",
   "name": "python",
   "nbconvert_exporter": "python",
   "pygments_lexer": "ipython3",
   "version": "3.8.0"
  }
 },
 "nbformat": 4,
 "nbformat_minor": 4
}
