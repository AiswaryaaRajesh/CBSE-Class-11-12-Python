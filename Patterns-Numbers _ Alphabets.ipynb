{
 "cells": [
  {
   "cell_type": "code",
   "execution_count": 1,
   "metadata": {},
   "outputs": [
    {
     "name": "stdout",
     "output_type": "stream",
     "text": [
      "ENter number of lines7\n",
      "1 \n",
      "1 2 \n",
      "1 2 3 \n",
      "1 2 3 4 \n",
      "1 2 3 4 5 \n",
      "1 2 3 4 5 6 \n",
      "1 2 3 4 5 6 7 \n"
     ]
    }
   ],
   "source": [
    "# 1\n",
    "# 12\n",
    "# 123\n",
    "# 1234\n",
    "n=int(input(\"ENter number of lines\"))\n",
    "for i in range(1,n+1):\n",
    "    for j in range(1,i+1):\n",
    "        print(j,end=\" \")\n",
    "    print()"
   ]
  },
  {
   "cell_type": "code",
   "execution_count": 2,
   "metadata": {},
   "outputs": [
    {
     "name": "stdout",
     "output_type": "stream",
     "text": [
      "Enter number of lines7\n",
      "      1\n",
      "     12\n",
      "    123\n",
      "   1234\n",
      "  12345\n",
      " 123456\n",
      "1234567\n"
     ]
    }
   ],
   "source": [
    "#   1\n",
    "#  12\n",
    "# 123\n",
    "#1234\n",
    "n=int(input(\"Enter number of lines\"))\n",
    "for i in range(1,n+1):\n",
    "    print(\" \"*(n-i),end=\"\")\n",
    "    for j in range(1,i+1):\n",
    "        print(j,end=\"\")\n",
    "    print()"
   ]
  },
  {
   "cell_type": "code",
   "execution_count": 5,
   "metadata": {},
   "outputs": [
    {
     "name": "stdout",
     "output_type": "stream",
     "text": [
      "1 2 3 \n",
      "1 2 \n",
      "1 \n"
     ]
    }
   ],
   "source": [
    "#following pattern\n",
    "#   1 2 3\n",
    "#   1 2\n",
    "#   1\n",
    "for i in range(4,1,-1):\n",
    "    for j in range (1,i):\n",
    "        print(j, end=\" \")\n",
    "    print()"
   ]
  },
  {
   "cell_type": "code",
   "execution_count": 7,
   "metadata": {},
   "outputs": [
    {
     "name": "stdout",
     "output_type": "stream",
     "text": [
      "Enter number of lines4\n",
      "    1 \n",
      "   1 2 \n",
      "  1 2 3 \n",
      " 1 2 3 4 \n"
     ]
    }
   ],
   "source": [
    "n=int(input(\"Enter number of lines\"))\n",
    "for i in range(1,n+1):\n",
    "    print(\" \"*(n-i),end=\" \")\n",
    "    for j in range(1,i+1):\n",
    "        print(j,end=\" \")\n",
    "    print()\n"
   ]
  },
  {
   "cell_type": "code",
   "execution_count": 6,
   "metadata": {},
   "outputs": [
    {
     "name": "stdout",
     "output_type": "stream",
     "text": [
      "A \n",
      "A B \n",
      "A B C \n",
      "A B C D \n",
      "A B C D E \n"
     ]
    }
   ],
   "source": [
    "#following pattern\n",
    "#   A \n",
    "#   B C\n",
    "#   D E F\n",
    "#   G H I J\n",
    "#   K L M N O\n",
    "for i in range (1,6):\n",
    "    for j in range (65,65+i):\n",
    "        print(chr(j),end=\" \")\n",
    "    print()"
   ]
  },
  {
   "cell_type": "code",
   "execution_count": 2,
   "metadata": {},
   "outputs": [
    {
     "name": "stdout",
     "output_type": "stream",
     "text": [
      "11111\n",
      "22222\n",
      "33333\n"
     ]
    }
   ],
   "source": [
    "for i in range(1,4):\n",
    "    for j in range (1,6):\n",
    "        print(i,end=\"\")\n",
    "    print()"
   ]
  },
  {
   "cell_type": "code",
   "execution_count": 3,
   "metadata": {},
   "outputs": [
    {
     "name": "stdout",
     "output_type": "stream",
     "text": [
      "12345\n",
      "12345\n",
      "12345\n"
     ]
    }
   ],
   "source": [
    "for i in range(1,4):\n",
    "    for j in range (1,6):\n",
    "        print(j, end=\"\")\n",
    "    print()"
   ]
  },
  {
   "cell_type": "code",
   "execution_count": null,
   "metadata": {},
   "outputs": [],
   "source": [
    "#A\n",
    "#AS\n",
    "#ASH\n",
    "#ASHI\n",
    "s=input(\"Enter a word \")\n",
    "for i in range(1,len(s)+1):\n",
    "    print(s[0:i])"
   ]
  },
  {
   "cell_type": "code",
   "execution_count": null,
   "metadata": {},
   "outputs": [],
   "source": [
    "#ASHI\n",
    "#ASH\n",
    "#AS\n",
    "#A\n",
    "s=input(\"Enter a word \")\n",
    "for i in range(len(s),0,-1):\n",
    "    print(s[0:i])  "
   ]
  },
  {
   "cell_type": "code",
   "execution_count": null,
   "metadata": {},
   "outputs": [],
   "source": [
    "s=input(\"Enter a word \")\n",
    "f=\"\"\n",
    "for i in range (len(s)):\n",
    "    f=s[i]*(i+1)\n",
    "    print(f)"
   ]
  },
  {
   "cell_type": "code",
   "execution_count": null,
   "metadata": {},
   "outputs": [],
   "source": [
    "#string in cyclic order\n",
    "s=input(\"Enter a word\")\n",
    "for i in range (len(s)):\n",
    "    print(s[i:len(s)]+s[0:i])"
   ]
  }
 ],
 "metadata": {
  "kernelspec": {
   "display_name": "Python 3",
   "language": "python",
   "name": "python3"
  },
  "language_info": {
   "codemirror_mode": {
    "name": "ipython",
    "version": 3
   },
   "file_extension": ".py",
   "mimetype": "text/x-python",
   "name": "python",
   "nbconvert_exporter": "python",
   "pygments_lexer": "ipython3",
   "version": "3.7.3"
  }
 },
 "nbformat": 4,
 "nbformat_minor": 2
}
