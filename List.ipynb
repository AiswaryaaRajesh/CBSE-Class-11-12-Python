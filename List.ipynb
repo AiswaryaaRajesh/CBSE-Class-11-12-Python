{
 "cells": [
  {
   "cell_type": "code",
   "execution_count": null,
   "metadata": {},
   "outputs": [],
   "source": [
    "lA=[1,6,4,3,6,8,90]\n",
    "lB=[89,34,6,2,44,77,64]\n",
    "C=lA.extend(lB)\n",
    "print(C)"
   ]
  },
  {
   "cell_type": "code",
   "execution_count": null,
   "metadata": {},
   "outputs": [],
   "source": [
    "lB=[]\n",
    "lA=[]\n",
    "nT=int(input(\"No of Nos.\"))\n",
    "for i in range(nT):\n",
    "    nA=int(input(\"ENter a number\"))\n",
    "    lA.append(nA)\n",
    "for i in range(nT):\n",
    "    nB=int(input(\"ENter a number\"))\n",
    "    lB.append(nB)\n",
    "print(lA)\n",
    "print(lB)\n",
    "lc=[]\n",
    "lc=lA+lB\n",
    "for k in range(0,nT-1):\n",
    "    lc[k]=2*lA[k]+3*lB[k]\n",
    "print(lc)"
   ]
  },
  {
   "cell_type": "code",
   "execution_count": null,
   "metadata": {},
   "outputs": [],
   "source": [
    "l1=[1,2,3,4]\n",
    "print(l1)\n",
    "l2=[5,6,7,8]\n",
    "print(l2)\n",
    "ALL=l1+l2\n",
    "print(ALL)\n",
    "for i in range(len(ALL)):\n",
    "    if i%2==0:\n",
    "        ALL[i]=l1[i]\n",
    "    else:\n",
    "        ALL[i]=l2[i]\n",
    "print(ALL)\n",
    "        "
   ]
  },
  {
   "cell_type": "code",
   "execution_count": null,
   "metadata": {},
   "outputs": [],
   "source": [
    "l=[]\n",
    "n=int(input(\"Enter noo of elements\"))\n",
    "for i in range(n):\n",
    "    e=int(input(\"Enter a number\"))\n",
    "    l.append(e)\n",
    "fl=[]\n",
    "for i in range(1,len(l)):\n",
    "    fl[i-1]=l[i]\n",
    "fl.insert(fl[0],l[0])\n",
    "print(fl)"
   ]
  },
  {
   "cell_type": "code",
   "execution_count": null,
   "metadata": {},
   "outputs": [],
   "source": [
    "p=[]\n",
    "n=int(input(\"Enter no of elements\"))\n",
    "for i in range(n):\n",
    "    e=int(input(\"Enter a number\"))\n",
    "    p.append(e)\n",
    "print(p)\n",
    "i=0\n",
    "while i<len(p)-1:\n",
    "    if p[i]%10==0:\n",
    "        p[i],p[i+1]=p[i+1],p[i]\n",
    "        i+=2\n",
    "print(p)"
   ]
  },
  {
   "cell_type": "code",
   "execution_count": 4,
   "metadata": {},
   "outputs": [
    {
     "name": "stdout",
     "output_type": "stream",
     "text": [
      "Enter noo of elements4\n",
      "Enter a number55\n",
      "Enter a number356\n",
      "Enter a number5565\n",
      "Enter a number532\n",
      "[55, 356, 5565, 532]\n",
      "[5, 0, 5, 0]\n"
     ]
    }
   ],
   "source": [
    "l=[]\n",
    "n=int(input(\"Enter noo of elements\"))\n",
    "for j in range(n):\n",
    "    e=int(input(\"Enter a number\"))\n",
    "    l.append(e)\n",
    "print(l)\n",
    "for i in range (len(l)):\n",
    "    if l[i]%5==0:\n",
    "        l[i]=5\n",
    "    else:\n",
    "        l[i]=0\n",
    "print(l)"
   ]
  },
  {
   "cell_type": "code",
   "execution_count": null,
   "metadata": {},
   "outputs": [],
   "source": [
    "l=[]\n",
    "for j in range(5):\n",
    "    r=random.randint(1,100)\n",
    "    l.append(r)\n",
    "print(l)\n",
    "for i in range(len(l)):\n",
    "    if l[i]%2==0:\n",
    "        l[i]=l[i]%10\n",
    "        sum=sum+l[i]\n",
    "        \n",
    "        \n",
    "        "
   ]
  },
  {
   "cell_type": "code",
   "execution_count": null,
   "metadata": {},
   "outputs": [],
   "source": []
  },
  {
   "cell_type": "code",
   "execution_count": null,
   "metadata": {},
   "outputs": [],
   "source": []
  }
 ],
 "metadata": {
  "kernelspec": {
   "display_name": "Python 3",
   "language": "python",
   "name": "python3"
  },
  "language_info": {
   "codemirror_mode": {
    "name": "ipython",
    "version": 3
   },
   "file_extension": ".py",
   "mimetype": "text/x-python",
   "name": "python",
   "nbconvert_exporter": "python",
   "pygments_lexer": "ipython3",
   "version": "3.8.0"
  }
 },
 "nbformat": 4,
 "nbformat_minor": 2
}
