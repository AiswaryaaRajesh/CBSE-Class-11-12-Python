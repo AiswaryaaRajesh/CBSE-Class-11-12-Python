{
 "cells": [
  {
   "cell_type": "markdown",
   "metadata": {},
   "source": [
    "# List and Functions"
   ]
  },
  {
   "cell_type": "code",
   "execution_count": null,
   "metadata": {},
   "outputs": [],
   "source": [
    "#bubble sort\n",
    "def bubble(l): \n",
    "    print(\"Original list => \",l)\n",
    "    n=len(l)\n",
    "    for i in range(n-1): \n",
    "        for j in range(n-i-1): \n",
    "            if l[j]>l[j+1]: \n",
    "                l[j],l[j+1]=l[j+1],l[j] \n",
    "    print(\"List after sorting => \",l) \n",
    "\n",
    "n=int(input(\"Enter number of elements in list => \"))\n",
    "origl=[]\n",
    "for i in range (n):\n",
    "    x = int(input(\"Enter a number => \"))\n",
    "    origl.append(x)\n",
    "bubble(origl) \n"
   ]
  },
  {
   "cell_type": "code",
   "execution_count": null,
   "metadata": {},
   "outputs": [],
   "source": [
    "#insertion sort\n",
    "def insertion(l):\n",
    "    print(\"Original list =>\",l)\n",
    "    for i in range(1,len(l)):\n",
    "        temp=l[i]\n",
    "        j=i-1\n",
    "        while j>=0 and temp<l[j]:\n",
    "            l[j+1]=l[j]\n",
    "            j=j-1\n",
    "        l[j+1]=temp \n",
    "    print(\"List after sorting\",l) \n",
    "\n",
    "n=int(input(\"Enter number of elements in list => \"))\n",
    "origl=[]\n",
    "for i in range (n):\n",
    "    x= int(input(\"Enter a number => \"))\n",
    "    origl.append(x)\n",
    "insertion(origl)\n"
   ]
  },
  {
   "cell_type": "code",
   "execution_count": null,
   "metadata": {},
   "outputs": [],
   "source": [
    "#global, local variable\n",
    "\n",
    "a=33                  # global variable\n",
    "def func():\n",
    "    global a          # global variable accessed\n",
    "    a=a+1\n",
    "    b=5               # local variable\n",
    "    print(a,b)        # local Variable\n",
    "func()\n",
    "print(a)              # global variable"
   ]
  },
  {
   "cell_type": "code",
   "execution_count": null,
   "metadata": {},
   "outputs": [],
   "source": [
    "#binary search\n",
    "def bsearch(l, beg, end, num): \n",
    "    if beg <= end:\n",
    "        mid = (beg + end)//2\n",
    "        if l[mid] == num: \n",
    "            return mid+1  \n",
    "        elif l[mid] < num: \n",
    "            return bsearch(l, mid+1, end, num)\n",
    "        else: \n",
    "            return bsearch(l, beg, mid-1, num)\n",
    "    else:\n",
    "        return None\n",
    "\n",
    "print(\"**enter list in ascending order**\")\n",
    "n=int(input(\"Enter number of elements in list => \"))\n",
    "l=[]\n",
    "for i in range (n):\n",
    "    x= int(input(\"Enter a number => \"))\n",
    "    l.append(x)\n",
    "print(\"List is =>\", l)\n",
    "numsearch=int(input(\"Enter number to find in list => \"))\n"
   ]
  },
  {
   "cell_type": "code",
   "execution_count": null,
   "metadata": {},
   "outputs": [],
   "source": [
    "#Arbitary Function\n",
    "def func(*flav):\n",
    "    for i in flav:\n",
    "        print(i)\n",
    "\n",
    "func(\"chocolate\", \"butterscotch\", \"strawberry\")\n"
   ]
  },
  {
   "cell_type": "code",
   "execution_count": null,
   "metadata": {},
   "outputs": [],
   "source": [
    "#Arbitary Keyword Function\n",
    "def fun(**dict):\n",
    "    print(dict)\n",
    "    for i in dict:\n",
    "        print(i,dict[i])\n",
    "fun(fname='Aiswaryaa',sname='Rajesh',clas='XII',admno=13)"
   ]
  },
  {
   "cell_type": "markdown",
   "metadata": {},
   "source": [
    "# Python Connectivity with MySQL"
   ]
  },
  {
   "cell_type": "code",
   "execution_count": null,
   "metadata": {},
   "outputs": [],
   "source": [
    "import mysql.connector\n",
    "con=mysql.connector.connect(user=\"root\",password=\"1234\",\n",
    "                            host=\"localhost\",database=\"sikkim\")\n",
    "print(con.is_connected())\n"
   ]
  },
  {
   "cell_type": "code",
   "execution_count": null,
   "metadata": {},
   "outputs": [],
   "source": [
    "if con.is_connected(): \n",
    "    cur=con.cursor()\n",
    "    \n",
    "    cur.execute(\"select * from places\")\n",
    "    x=cur.fetchall()\n",
    "    for i in x:\n",
    "        print(i)\n",
    "else:\n",
    "    print(\"sorry can't connected\")"
   ]
  },
  {
   "cell_type": "code",
   "execution_count": null,
   "metadata": {},
   "outputs": [],
   "source": [
    "if con.is_connected(): \n",
    "    cur=con.cursor()\n",
    "    \n",
    "    cur.execute(\"select * from places where SurfaceElevation <= 15000\")\n",
    "    x=cur.fetchall()\n",
    "    for i in x:\n",
    "        print(i)\n",
    "else:\n",
    "    print(\"sorry can't connected\")"
   ]
  },
  {
   "cell_type": "code",
   "execution_count": null,
   "metadata": {},
   "outputs": [],
   "source": [
    "if con.is_connected(): \n",
    "    cur=con.cursor()\n",
    "    \n",
    "    cur.execute(\"select * from food order by Delicacy\")\n",
    "    x=cur.fetchall()\n",
    "    for i in x:\n",
    "        print(i)\n",
    "else:\n",
    "    print(\"sorry can't connected\")"
   ]
  },
  {
   "cell_type": "code",
   "execution_count": null,
   "metadata": {},
   "outputs": [],
   "source": [
    "if con.is_connected(): \n",
    "    cur=con.cursor()\n",
    "    \n",
    "    cur.execute(\"select Name, Location, FoodType from Places p, Food f where p.delicacy=f.delicacy order by FoodType\")\n",
    "    x=cur.fetchall()\n",
    "    for i in x:\n",
    "        print(i)\n",
    "else:\n",
    "    print(\"sorry can't connected\")"
   ]
  },
  {
   "cell_type": "code",
   "execution_count": null,
   "metadata": {},
   "outputs": [],
   "source": [
    "if con.is_connected(): \n",
    "    cur=con.cursor()\n",
    "    \n",
    "    cur.execute(\"select Name, SurfaceElevation, BestTimeForVisit from Places group by BestTimeForVisit\")\n",
    "    x=cur.fetchall()\n",
    "    for i in x:\n",
    "        print(i)\n",
    "else:\n",
    "    print(\"sorry can't connected\")"
   ]
  },
  {
   "cell_type": "code",
   "execution_count": null,
   "metadata": {},
   "outputs": [],
   "source": [
    "if con.is_connected(): \n",
    "    cur=con.cursor()\n",
    "    \n",
    "    cur.execute(\"select p.Delicacy, Type, Location from Places p, Food f where p.delicacy=f.delicacy order by Type desc\")\n",
    "    x=cur.fetchall()\n",
    "    for i in x:\n",
    "        print(i)\n",
    "else:\n",
    "    print(\"sorry can't connected\")"
   ]
  },
  {
   "cell_type": "markdown",
   "metadata": {},
   "source": [
    "# Stack and Queue"
   ]
  },
  {
   "cell_type": "code",
   "execution_count": null,
   "metadata": {},
   "outputs": [],
   "source": [
    "#Stack\n",
    "def push(l):\n",
    "    l=[]\n",
    "    x=int(input(\"enter number => \"))\n",
    "    l.append(x)\n",
    "    y=input(\"enter name => \")\n",
    "    l.append(y) \n",
    "    print(l)\n",
    "    \n",
    "l=[]\n",
    "push(l)"
   ]
  },
  {
   "cell_type": "code",
   "execution_count": null,
   "metadata": {},
   "outputs": [],
   "source": [
    "#Stack\n",
    "def pop(l):\n",
    "    if len(l)==0:\n",
    "        print(\"underflow\")\n",
    "    else:\n",
    "        print(\"deleted element is \",l.pop())\n",
    "\n",
    "l = [10,\"Aiswaryaa\"]        \n",
    "pop(l)"
   ]
  },
  {
   "cell_type": "code",
   "execution_count": null,
   "metadata": {},
   "outputs": [],
   "source": [
    "#Stack\n",
    "def disp(l):\n",
    "    if len(l)==0:\n",
    "        print(\"stack is empty\")\n",
    "    else:\n",
    "        for i in range(len(l)-1,-1,-1):\n",
    "            print(l[i],end=' ')\n",
    "\n",
    "l = [10,\"Aiswaryaa\"]      \n",
    "disp(l)"
   ]
  },
  {
   "cell_type": "code",
   "execution_count": null,
   "metadata": {},
   "outputs": [],
   "source": [
    "#Queue\n",
    "def add(l):\n",
    "    for i in range(3):\n",
    "        x=int(input(\"enter number =>\"))\n",
    "        l.append(x)\n",
    "    print(l)\n",
    "\n",
    "l=[]\n",
    "add(l)"
   ]
  },
  {
   "cell_type": "code",
   "execution_count": null,
   "metadata": {},
   "outputs": [],
   "source": [
    "#Queue\n",
    "def delete(l):\n",
    "    if len(l)==0:\n",
    "        print(\"underflow\")\n",
    "    else:\n",
    "        print(\"deleted element is \",l.pop(0))\n",
    "        \n",
    "l=[10,20,30]\n",
    "delete(l)"
   ]
  },
  {
   "cell_type": "code",
   "execution_count": null,
   "metadata": {},
   "outputs": [],
   "source": [
    "#Queue\n",
    "def disp(l):\n",
    "    if len(l)==0:\n",
    "        print(\"Queue is empty\")\n",
    "    else:\n",
    "        for i in range(len(l)):\n",
    "            print(l[i],end=' ')\n",
    "\n",
    "l=[10,20,30]\n",
    "disp(l)            "
   ]
  },
  {
   "cell_type": "markdown",
   "metadata": {},
   "source": [
    "# Text File\n"
   ]
  },
  {
   "cell_type": "code",
   "execution_count": 1,
   "metadata": {},
   "outputs": [],
   "source": [
    "f=open(\"quotes.txt\",'w')\n",
    "f.write(\"Knowledge is power is time is money.\\n\")\n",
    "f.writelines([\"I would prefer a sword to fight duel, but a pen to plan a war.\\n\",\n",
    "              \"Chains of gold are still chains.\\n\",\n",
    "              \"Life is not about living the safer option.\"])\n",
    "f.close()"
   ]
  },
  {
   "cell_type": "code",
   "execution_count": 10,
   "metadata": {},
   "outputs": [
    {
     "name": "stdout",
     "output_type": "stream",
     "text": [
      "Knowledge is power is time is money.\n",
      "I would prefer a sword to fight duel, but a pen to plan a war.\n",
      "Chains of gold are still chains.\n",
      "Life is not about living the safer option.\n"
     ]
    }
   ],
   "source": [
    "#Display whole text\n",
    "f=open(\"quotes.txt\")\n",
    "s=f.read()\n",
    "print(s)"
   ]
  },
  {
   "cell_type": "code",
   "execution_count": 3,
   "metadata": {},
   "outputs": [
    {
     "name": "stdout",
     "output_type": "stream",
     "text": [
      "There are  4 \"is\" in the file\n"
     ]
    }
   ],
   "source": [
    "#number of \"is\" in text file\n",
    "f=open(\"quotes.txt\")\n",
    "c=0\n",
    "s=f.read()\n",
    "l=s.split()\n",
    "for i in l:\n",
    "    if i==\"is\":\n",
    "        c+=1\n",
    "print(\"There are \",c,\"\\\"is\\\" in the file\")\n",
    "f.close()"
   ]
  },
  {
   "cell_type": "code",
   "execution_count": 9,
   "metadata": {},
   "outputs": [
    {
     "name": "stdout",
     "output_type": "stream",
     "text": [
      "Knowledge is power is time is money.\n",
      "\n",
      "Chains of gold are still chains.\n",
      "\n",
      "Life is not about living the safer option.\n",
      "\n",
      "There are  3 line(s) with a consonent as its first letter\n"
     ]
    }
   ],
   "source": [
    "#number of lines starting with a consonant\n",
    "f=open(\"quotes.txt\")\n",
    "l=f.readlines()\n",
    "c=0\n",
    "for i in l:\n",
    "    if i[0] not in \"AEIOUaeiou\":\n",
    "        c+=1\n",
    "        print(i)\n",
    "print()\n",
    "print(\"There are \",c,\"line(s) with a consonent as its first letter\")"
   ]
  },
  {
   "cell_type": "code",
   "execution_count": 11,
   "metadata": {},
   "outputs": [
    {
     "name": "stdout",
     "output_type": "stream",
     "text": [
      "There are  4 uppercase letters in the file\n"
     ]
    }
   ],
   "source": [
    "#number of uppercase letters\n",
    "f=open(\"quotes.txt\")\n",
    "s=f.read()\n",
    "c=0\n",
    "for i in s:\n",
    "    if i.isupper():\n",
    "        c+=1\n",
    "print(\"There are \",c,\"uppercase letters in the file\")\n",
    "f.close()"
   ]
  },
  {
   "cell_type": "code",
   "execution_count": 12,
   "metadata": {},
   "outputs": [
    {
     "name": "stdout",
     "output_type": "stream",
     "text": [
      "Before reading the file, the pointer rests at  0\n",
      "After reading the file, the pointer rests at 178\n"
     ]
    }
   ],
   "source": [
    "#Absolute Positioning\n",
    "f=open(\"quotes.txt\")\n",
    "print(\"Before reading the file, the pointer rests at \",f.tell())\n",
    "s=f.read()\n",
    "print(\"After reading the file, the pointer rests at\",f.tell())"
   ]
  },
  {
   "cell_type": "code",
   "execution_count": 24,
   "metadata": {},
   "outputs": [
    {
     "name": "stdout",
     "output_type": "stream",
     "text": [
      "Before reading the file, the pointer rests at  0\n",
      "Now,the pointer rests at  50\n",
      "\n",
      "The pointer now reads: \n",
      "er a sword to fight duel, but a pen to plan a war.\n",
      "Chains of gold are still chains.\n",
      "Life is not about living the safer option.\n",
      "\n"
     ]
    },
    {
     "data": {
      "text/plain": [
       "'\\nf.seek(-12,2)\\nprint(\"Now,the pointer rests at \",f.tell())\\ns=f.read()\\nprint(\"The pointer now reads: \")\\nprint(s)\\nprint()\\nf.seek(-5,1)\\nprint(\"Now,the pointer rests at \",f.tell())\\ns=f.read()\\nprint(\"The pointer now reads: \")\\nprint(s)\\nprint()\\nf.seek(5,1)\\nprint(\"Now,the pointer rests at \",f.tell())\\ns=f.read()\\nprint(\"The pointer now reads: \")\\nprint(s)\\nprint()\\n'"
      ]
     },
     "execution_count": 24,
     "metadata": {},
     "output_type": "execute_result"
    }
   ],
   "source": [
    "#Relative Positioning\n",
    "f=open(\"quotes.txt\")\n",
    "print(\"Before reading the file, the pointer rests at \",f.tell())\n",
    "f.seek(50,0)\n",
    "print(\"Now,the pointer rests at \",f.tell())\n",
    "s=f.read()\n",
    "print()\n",
    "print(\"The pointer now reads: \")\n",
    "print(s)\n",
    "print()\n",
    "\n",
    "\"\"\"\n",
    "f.seek(-12,2)\n",
    "print(\"Now,the pointer rests at \",f.tell())\n",
    "s=f.read()\n",
    "print(\"The pointer now reads: \")\n",
    "print(s)\n",
    "print()\n",
    "f.seek(-5,1)\n",
    "print(\"Now,the pointer rests at \",f.tell())\n",
    "s=f.read()\n",
    "print(\"The pointer now reads: \")\n",
    "print(s)\n",
    "print()\n",
    "f.seek(5,1)\n",
    "print(\"Now,the pointer rests at \",f.tell())\n",
    "s=f.read()\n",
    "print(\"The pointer now reads: \")\n",
    "print(s)\n",
    "print()\n",
    "\"\"\""
   ]
  },
  {
   "cell_type": "code",
   "execution_count": 26,
   "metadata": {},
   "outputs": [],
   "source": [
    "#copy text from one to another\n",
    "inp=open(\"quotes.txt\",\"r\")\n",
    "out = open (\"new.txt\",\"w\")\n",
    "s=inp.read()\n",
    "out.writelines(s)"
   ]
  },
  {
   "cell_type": "markdown",
   "metadata": {},
   "source": [
    "# CSV Files"
   ]
  },
  {
   "cell_type": "code",
   "execution_count": 47,
   "metadata": {},
   "outputs": [],
   "source": [
    "#input records\n",
    "import csv\n",
    "filename = \"Schooldb.csv\"\n",
    "fields =[\"Name    \",\"Stream     \",\"Grad Year\",\"Percentage\"]\n",
    "rows = [[\"Rohit   \",\"Non Medical\",\"  2015   \",\"   90     \"],\n",
    "        [\"Niharika\",\"Commerce   \",\"  2017   \",\"   86     \"],\n",
    "        [\"Subir   \",\"Humanities \",\"  2019   \",\"   95     \"]]\n",
    "with open (filename,\"w\",newline=\"\") as f:\n",
    "    cw=csv.writer(f,delimiter=\"|\")\n",
    "    cw.writerow(fields)\n",
    "    for i in rows:\n",
    "        cw.writerow(i)"
   ]
  },
  {
   "cell_type": "code",
   "execution_count": 45,
   "metadata": {},
   "outputs": [
    {
     "name": "stdout",
     "output_type": "stream",
     "text": [
      "['Name    |Stream     |Grad Year|Percentage']\n",
      "['Rohit   |Non Medical|  2015   |   90     ']\n",
      "['Niharika|Commerce   |  2017   |   86     ']\n",
      "['Subir   |Humanities |  2019   |   95     ']\n",
      "Total number of lines in the file is 4\n"
     ]
    }
   ],
   "source": [
    "#Print records\n",
    "import csv\n",
    "filename = \"Schooldb.csv\"\n",
    "fields=[]\n",
    "rows=[]\n",
    "with open (filename,\"r\") as csvfile:\n",
    "    csvreader=csv.reader(csvfile)\n",
    "    for i in csvreader:\n",
    "        print(i)\n",
    "    print(\"Total number of lines in the file is\",csvreader.line_num)"
   ]
  },
  {
   "cell_type": "code",
   "execution_count": null,
   "metadata": {},
   "outputs": [],
   "source": []
  }
 ],
 "metadata": {
  "kernelspec": {
   "display_name": "Python 3",
   "language": "python",
   "name": "python3"
  },
  "language_info": {
   "codemirror_mode": {
    "name": "ipython",
    "version": 3
   },
   "file_extension": ".py",
   "mimetype": "text/x-python",
   "name": "python",
   "nbconvert_exporter": "python",
   "pygments_lexer": "ipython3",
   "version": "3.8.0"
  }
 },
 "nbformat": 4,
 "nbformat_minor": 2
}
