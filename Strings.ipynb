{
 "cells": [
  {
   "cell_type": "code",
   "execution_count": null,
   "metadata": {},
   "outputs": [],
   "source": [
    "#Check no of Vowels\n",
    "s=input(\"Enter a word\")\n",
    "s=s.upper()\n",
    "c=0\n",
    "for i in s:\n",
    "    if i in \"AEIOU\":\n",
    "        print(i)\n",
    "        c+=1\n",
    "print(\"No. of vowels is\",c)"
   ]
  },
  {
   "cell_type": "code",
   "execution_count": null,
   "metadata": {},
   "outputs": [],
   "source": [
    "#A string is a pallindrome or not\n",
    "s=input(\"Enter a word\")\n",
    "rev=\"\"\n",
    "for i in s:\n",
    "    rev=i+rev\n",
    "if rev==s:\n",
    "    print(s,\"is a pallindrome\")\n",
    "else:\n",
    "    print(s,\"is not a pallindrome\")"
   ]
  },
  {
   "cell_type": "code",
   "execution_count": null,
   "metadata": {},
   "outputs": [],
   "source": [
    "#replace Consonant=Y vowels=X and space==space\n",
    "s=input(\"Enter a sentence \")\n",
    "space=\" \"\n",
    "vowels=\"AEIOUaeiou\"\n",
    "for i in s:\n",
    "    if i.isalpha():\n",
    "        if i in vowels:\n",
    "            space=space+\"X\"\n",
    "        else:\n",
    "            space=space+\"Y\"\n",
    "    else:\n",
    "        space=space+i\n",
    "print(space)"
   ]
  },
  {
   "cell_type": "code",
   "execution_count": null,
   "metadata": {},
   "outputs": [],
   "source": [
    "#ALternate letter capital\n",
    "s=input(\"Enter a sentence\")\n",
    "c=\"\"\n",
    "for i in range(len(s)):\n",
    "    if i%2==0:\n",
    "        c=c+s[i].upper()\n",
    "    else:\n",
    "        c=c+s[i]\n",
    "print(c)\n",
    "        "
   ]
  },
  {
   "cell_type": "code",
   "execution_count": 1,
   "metadata": {},
   "outputs": [
    {
     "name": "stdout",
     "output_type": "stream",
     "text": [
      "Enter a sentence My name is Aiswaryaa\n",
      "Enter the character which is to be changed a\n",
      "My nAme is aiswAryAA\n"
     ]
    }
   ],
   "source": [
    "#conevert small to upper and vice versa; letter which user gives, change it\n",
    "s=input(\"Enter a sentence \")\n",
    "ch=input(\"Enter the character which is to be changed \")\n",
    "cs=\"\"\n",
    "for i in s:\n",
    "    if i==ch.lower():\n",
    "        cs=cs+i.upper()\n",
    "    elif i==ch.upper():\n",
    "        cs=cs+i.lower()\n",
    "    else:\n",
    "        cs=cs+i\n",
    "print(cs)"
   ]
  },
  {
   "cell_type": "code",
   "execution_count": null,
   "metadata": {},
   "outputs": [],
   "source": [
    "#Count no. of alphabets\n",
    "s=input(\"Enter a word \")\n",
    "c=0\n",
    "for i in s:\n",
    "    if i.isalpha():\n",
    "        c+=1\n",
    "print(c)"
   ]
  },
  {
   "cell_type": "code",
   "execution_count": null,
   "metadata": {},
   "outputs": [],
   "source": [
    "#no. of words in a sentence\n",
    "s=input(\"Enter a sentence\")\n",
    "l=s.split()\n",
    "print(\"No. of words in the sentence is\",len(l))\n",
    "print(l)"
   ]
  },
  {
   "cell_type": "code",
   "execution_count": null,
   "metadata": {},
   "outputs": [],
   "source": [
    "#largest and smallest word\n",
    "s=input(\"Enter a sentence\")\n",
    "s=s.split()\n",
    "max=len(s[0])\n",
    "min=len(s[0])\n",
    "for i in s:\n",
    "    if len(i)>max:\n",
    "        max=len(i)\n",
    "for i in s:\n",
    "    if len(i)<min:\n",
    "        min=len(i)\n",
    "for i in s:\n",
    "    if len(i)==max:\n",
    "        print(\"maximum=\",i)\n",
    "for i in s:\n",
    "    if len(i)==min:\n",
    "        print(\"minimum=\",i) \n"
   ]
  },
  {
   "cell_type": "code",
   "execution_count": null,
   "metadata": {},
   "outputs": [],
   "source": [
    "#Remove vowels\n",
    "s=input(\"Enter a sentence\")\n",
    "c=\"\"\n",
    "for i in range(len(s)):\n",
    "    if s[i] not in \"aeiouAEIOU\":\n",
    "        c=c+s[i]\n",
    "print(c)"
   ]
  },
  {
   "cell_type": "code",
   "execution_count": 1,
   "metadata": {},
   "outputs": [
    {
     "name": "stdout",
     "output_type": "stream",
     "text": [
      "Enter a sentenceMY NAME IS ASHWIN\n",
      "AEIAI\n"
     ]
    }
   ],
   "source": [
    "#Remove consonents\n",
    "s=input(\"Enter a sentence\")\n",
    "c=\"\"\n",
    "for i in range(len(s)):\n",
    "    if s[i] in \"aeiouAEIOU\":\n",
    "        c=c+s[i]\n",
    "print(c)"
   ]
  },
  {
   "cell_type": "code",
   "execution_count": null,
   "metadata": {},
   "outputs": [],
   "source": []
  }
 ],
 "metadata": {
  "kernelspec": {
   "display_name": "Python 3",
   "language": "python",
   "name": "python3"
  },
  "language_info": {
   "codemirror_mode": {
    "name": "ipython",
    "version": 3
   },
   "file_extension": ".py",
   "mimetype": "text/x-python",
   "name": "python",
   "nbconvert_exporter": "python",
   "pygments_lexer": "ipython3",
   "version": "3.7.3"
  }
 },
 "nbformat": 4,
 "nbformat_minor": 2
}
