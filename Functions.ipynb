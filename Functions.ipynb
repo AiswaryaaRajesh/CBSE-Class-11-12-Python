{
 "cells": [
  {
   "cell_type": "code",
   "execution_count": 2,
   "metadata": {},
   "outputs": [
    {
     "name": "stdout",
     "output_type": "stream",
     "text": [
      "Enter a number3241\n",
      "3241 is an odd number\n"
     ]
    }
   ],
   "source": [
    "#odd-even check\n",
    "def chk_oddeven(k):\n",
    "    if k%2==0:\n",
    "        print(k,\"is an even number\")\n",
    "    else:\n",
    "        print(k,\"is an odd number\")\n",
    "n=int(input(\"Enter a number\"))\n",
    "chk_oddeven(n)"
   ]
  },
  {
   "cell_type": "code",
   "execution_count": 3,
   "metadata": {},
   "outputs": [
    {
     "name": "stdout",
     "output_type": "stream",
     "text": [
      "Enter a number2\n",
      "Enter a number5\n",
      "5\n"
     ]
    }
   ],
   "source": [
    "#maximum Number\n",
    "a=int(input(\"Enter a number\"))\n",
    "b=int(input(\"Enter a number\"))\n",
    "def max(a,b):\n",
    "    if a>b:\n",
    "        return a\n",
    "    else:\n",
    "        return b\n",
    "print(max(a,b))"
   ]
  },
  {
   "cell_type": "code",
   "execution_count": 5,
   "metadata": {},
   "outputs": [
    {
     "name": "stdout",
     "output_type": "stream",
     "text": [
      "ENter a number 5\n"
     ]
    },
    {
     "data": {
      "text/plain": [
       "True"
      ]
     },
     "execution_count": 5,
     "metadata": {},
     "output_type": "execute_result"
    }
   ],
   "source": [
    "#return True or False for prime or not\n",
    "def chk_prime(n):\n",
    "    sum=0\n",
    "    for i in range (1,n+1):\n",
    "        if n%i==0:\n",
    "            sum=sum+i\n",
    "    if sum==n+1:\n",
    "        return True\n",
    "    else:\n",
    "        return False\n",
    "n=int(input(\"ENter a number\"))\n",
    "chk_prime(n)"
   ]
  },
  {
   "cell_type": "code",
   "execution_count": null,
   "metadata": {},
   "outputs": [],
   "source": []
  },
  {
   "cell_type": "code",
   "execution_count": null,
   "metadata": {},
   "outputs": [],
   "source": []
  }
 ],
 "metadata": {
  "kernelspec": {
   "display_name": "Python 3",
   "language": "python",
   "name": "python3"
  },
  "language_info": {
   "codemirror_mode": {
    "name": "ipython",
    "version": 3
   },
   "file_extension": ".py",
   "mimetype": "text/x-python",
   "name": "python",
   "nbconvert_exporter": "python",
   "pygments_lexer": "ipython3",
   "version": "3.7.3"
  }
 },
 "nbformat": 4,
 "nbformat_minor": 2
}
